{
 "cells": [
  {
   "cell_type": "markdown",
   "metadata": {},
   "source": [
    "# Web scraper"
   ]
  },
  {
   "cell_type": "markdown",
   "metadata": {},
   "source": [
    "In this notebook, I am going to scrap all the data from IMDb website."
   ]
  },
  {
   "cell_type": "markdown",
   "metadata": {},
   "source": [
    "## get titles and urls for all movies"
   ]
  },
  {
   "cell_type": "code",
   "execution_count": 5,
   "metadata": {},
   "outputs": [],
   "source": [
    "from bs4 import BeautifulSoup\n",
    "import requests\n",
    "import pandas as pd"
   ]
  },
  {
   "cell_type": "code",
   "execution_count": 11,
   "metadata": {},
   "outputs": [
    {
     "data": {
      "text/plain": [
       "<Response [200]>"
      ]
     },
     "execution_count": 11,
     "metadata": {},
     "output_type": "execute_result"
    }
   ],
   "source": [
    "# use a header to avoid being blocked\n",
    "url = \"https://www.imdb.com/chart/moviemeter/\"\n",
    "headers = {\n",
    "    \"User-Agent\": \"Mozilla/5.0 (Windows NT 10.0; Win64; x64) AppleWebKit/537.36 \\\n",
    "        (KHTML, like Gecko) Chrome/122.0.0.0 Safari/537.36 Edg/122.0.0.0\",\n",
    "    \"X-Amzn-Trace-Id\": \"Root=1-65e35243-4893ea3e5f2895705cbb6c1f\"\n",
    "}\n",
    "page = requests.get(url, headers=headers, timeout=5)\n",
    "page"
   ]
  },
  {
   "cell_type": "code",
   "execution_count": null,
   "metadata": {},
   "outputs": [],
   "source": [
    "# use BeautifulSoup to parse the page and print the result\n",
    "soup = BeautifulSoup(page.content, \"html.parser\")\n",
    "print(soup.prettify())"
   ]
  },
  {
   "cell_type": "code",
   "execution_count": 38,
   "metadata": {},
   "outputs": [],
   "source": [
    "# scrap and parse all the needed data\n",
    "urls_name = []\n",
    "for tag in soup.find_all(\"a\"):\n",
    "    if tag.get(\"href\").startswith(\"/title/\"):\n",
    "        href = tag.get(\"href\")\n",
    "        words = href.split(\"/\")\n",
    "        href = \"/title/\" + words[2]\n",
    "    else:\n",
    "        continue\n",
    "\n",
    "    full_arialabel = tag.get(\"aria-label\")\n",
    "    if full_arialabel and full_arialabel.startswith(\"View title\"):\n",
    "        title = full_arialabel.split(\"page for \")[1]\n",
    "    else:\n",
    "        title = None\n",
    "\n",
    "    if href and title:\n",
    "        urls_name.append((href, title))\n",
    "\n",
    "# we will get a list of tuples with the url and the name of the movie\n",
    "# in order to reach the next step\n",
    "csv = \"urls_name.csv\"\n",
    "df = pd.DataFrame(urls_name, columns=[\"url\", \"name\"])\n",
    "df.to_csv(csv, index=False)"
   ]
  },
  {
   "cell_type": "markdown",
   "metadata": {},
   "source": [
    "## Go through all the urls to get reviews\n",
    "Use Chrome Driver and selenium to press \"load more\" button on every website of movies."
   ]
  },
  {
   "cell_type": "code",
   "execution_count": 28,
   "metadata": {},
   "outputs": [],
   "source": [
    "from selenium import webdriver\n",
    "from selenium.webdriver.common.by import By\n",
    "from selenium.webdriver.support.ui import WebDriverWait\n",
    "from selenium.webdriver.support import expected_conditions as EC\n",
    "\n",
    "# set the driver path and the user agent to have website interaction\n",
    "driver_path = r\"C:\\Users\\yuuna\\WebDriver\\chromedriver-win64\\chromedriver.exe\"\n",
    "options = webdriver.ChromeOptions()\n",
    "options.add_argument(\"--user-agent=Mozilla/5.0 (Windows NT 10.0; Win64; x64) \\\n",
    "AppleWebKit/537.36 (KHTML, like Gecko) Chrome/122.0.0.0 Safari/537.36 Edg/122.0.0.0\")\n",
    "driver = webdriver.Chrome(executable_path=driver_path, options=options)"
   ]
  },
  {
   "cell_type": "code",
   "execution_count": null,
   "metadata": {
    "scrolled": true
   },
   "outputs": [],
   "source": [
    "import time\n",
    "# read csv file and open all urls to scrap the needed data\n",
    "csv = \"urls_name.csv\"\n",
    "df = pd.read_csv(csv)\n",
    "reviews = []\n",
    "\n",
    "for url, name in zip(df[\"url\"], df[\"name\"]):\n",
    "    url = \"https://www.imdb.com\" + url + \"/reviews\"\n",
    "    driver = webdriver.Chrome(executable_path=driver_path, options=options)\n",
    "    driver.get(url)\n",
    "    soup = BeautifulSoup(driver.page_source, \"html.parser\")\n",
    "    temp_header = soup.find(\"div\", class_=\"header\")\n",
    "    review_num = temp_header.find(\"span\", class_=None)\n",
    "    review_num = review_num.text.split(\" \")[0]\n",
    "    review_num = int(review_num.replace(\",\", \"\"))\n",
    "\n",
    "    # if the number of review is less than 25, we don't have a button to load more\n",
    "    # so if there aren't this if function, the code will crash\n",
    "    if(review_num > 25):\n",
    "        # Click the \"Load More\" button to load more reviews\n",
    "        load_more_button = WebDriverWait(driver, 60).until(\n",
    "            EC.visibility_of_element_located((By.CLASS_NAME, \"ipl-load-more__button\")))\n",
    "\n",
    "        while load_more_button.is_displayed():\n",
    "            load_more_button.click()\n",
    "            # Add some delay to let the \"Load More\" button appear again\n",
    "            time.sleep(3)\n",
    "            driver.implicitly_wait(5)\n",
    "    \n",
    "    # Get the page source and create a BeautifulSoup object after all reviews are loaded\n",
    "    source = driver.page_source\n",
    "\n",
    "    soup = BeautifulSoup(source, \"html.parser\")\n",
    "    \n",
    "    # Get the reviews from the page source, and count the number of reviews\n",
    "    count = 0\n",
    "    for review in soup.find_all(\"div\", class_=\"review-container\"):\n",
    "        score = review.find(\"span\", class_=None)\n",
    "        if score:\n",
    "            score = score.text\n",
    "        else:\n",
    "            score = None\n",
    "        rev_title = review.find(\"a\", class_=\"title\")\n",
    "        rev_text = review.find(\"div\", class_=\"text show-more__control\")\n",
    "        if score and rev_title and rev_text:\n",
    "            reviews.append((name, score, rev_title.text, rev_text.text))\n",
    "            count += 1\n",
    "\n",
    "    print(name, \"has\", count, \"reviews.\")\n",
    "\n",
    "    driver.quit()\n"
   ]
  },
  {
   "cell_type": "code",
   "execution_count": 35,
   "metadata": {},
   "outputs": [],
   "source": [
    "imdb_csv = \"imdb_reviews.csv\"\n",
    "# save the data into a csv file\n",
    "df = pd.DataFrame(reviews, columns=[\"movie\", \"score\", \"title\", \"review\"])\n",
    "df.to_csv(imdb_csv, index=False)"
   ]
  },
  {
   "cell_type": "markdown",
   "metadata": {},
   "source": [
    "Now we have 47742 raw reviews from imdb. Let's clean it a little bit for the correct shapes of score.\\\n",
    "\\\n",
    "Next, I want to convert the score into sentiments(positive or negative).\\\n",
    "This convertion will take the definition of \"freshness\" on rottentomatoes.com:\\\n",
    "\\\n",
    "When at least 60% of reviews for a movie or TV show are positive, a red tomato is displayed to indicate its Fresh status.\\\n",
    "When less than 60% of reviews for a movie or TV show are positive, a green splat is displayed to indicate its Rotten status.\\\n",
    "\\\n",
    "I assume the score these reviews gave (?/10) is the positive level of their review.\\\n",
    "If the score >=6, the review will be marked as fresh(positive).\\\n",
    "If the score <6, the review will be marked as rotten(negative)."
   ]
  },
  {
   "cell_type": "code",
   "execution_count": 47,
   "metadata": {},
   "outputs": [],
   "source": [
    "# add one column to imdb_reviews.csv to indicate the sentiment\n",
    "import pandas as pd\n",
    "\n",
    "df = pd.read_csv(\"imdb_reviews.csv\")\n",
    "df[\"score\"] = pd.to_numeric(df[\"score\"], errors=\"coerce\")\n",
    "df = df.dropna(subset=[\"score\"])\n",
    "\n",
    "# define the sentiment by the score\n",
    "df['sentiment'] = df['score'].apply(lambda x: 1 if int(x) >= 6 else 0)\n",
    "df.to_csv(\"imdb_reviews.csv\", index=False)"
   ]
  },
  {
   "cell_type": "code",
   "execution_count": null,
   "metadata": {},
   "outputs": [],
   "source": [
    "df = pd.read_csv(\"imdb_reviews.csv\")\n",
    "positive_count = df[df[\"sentiment\"] == 1].shape[0]\n",
    "negative_count = df[df[\"sentiment\"] == 0].shape[0]\n",
    "print(\"Total reviews:\", df.shape[0])\n",
    "print(\"Positive reviews:\", positive_count)\n",
    "print(\"Negative reviews:\", negative_count)"
   ]
  },
  {
   "cell_type": "markdown",
   "metadata": {},
   "source": [
    "## preprocess the dataset"
   ]
  },
  {
   "cell_type": "code",
   "execution_count": 27,
   "metadata": {},
   "outputs": [],
   "source": [
    "import pandas as pd\n",
    "import re\n",
    "\n",
    "df = pd.read_csv(\"ttest_imdb_reviews.csv\")\n",
    "# remove all \\n in review and title\n",
    "df[\"review\"] = df[\"review\"].apply(lambda x: re.sub(\"\\n\", \" \", x))\n",
    "df[\"title\"] = df[\"title\"].apply(lambda x: re.sub(\"\\n\", \" \", x))\n",
    "df.to_csv(\"test_imdb_reviews.csv\", index=False)"
   ]
  },
  {
   "cell_type": "code",
   "execution_count": 5,
   "metadata": {},
   "outputs": [],
   "source": [
    "import pandas as pd\n",
    "from sklearn.feature_extraction.text import re\n",
    "import string\n",
    "from nltk.corpus import stopwords\n",
    "\n",
    "stopwords = set(stopwords.words(\"english\"))\n",
    "\n",
    "translator = str.maketrans(\"\", \"\", string.punctuation)\n",
    "\n",
    "def clean_text(text):\n",
    "    # final_text = []\n",
    "    text = text.translate(translator)\n",
    "    text = text.lower()\n",
    "    text = text.split()\n",
    "    text = [word for word in text if word not in stopwords.words(\"english\")]\n",
    "    text = ''.join([i for i in text if not i.isdigit()])\n",
    "    return text\n",
    "\n",
    "def filter_word(text):\n",
    "    text = text.split()\n",
    "    filtered_words = [word for word in text if word not in stopwords]\n",
    "    return \" \".join(filtered_words)\n",
    "\n",
    "df = pd.read_csv(\"test_imdb_reviews.csv\")\n",
    "# clean the review and title\n",
    "# for data in df:\n",
    "df[\"review\"] = df[\"review\"].apply(lambda x: filter_word(x))\n",
    "df[\"title\"] = df[\"title\"].apply(lambda x: filter_word(x))\n",
    "# print(df[\"review\"][0])\n",
    "# df[\"title\"][0]\n",
    "df.to_csv(\"test_imdb_reviews.csv\", index=False, mode=\"w\")"
   ]
  },
  {
   "cell_type": "markdown",
   "metadata": {},
   "source": [
    "## Dataset statistics"
   ]
  },
  {
   "cell_type": "code",
   "execution_count": 3,
   "metadata": {},
   "outputs": [
    {
     "name": "stdout",
     "output_type": "stream",
     "text": [
      "Total reviews: 41669\n",
      "Positive reviews: 27295\n",
      "Negative reviews: 14374\n",
      "ratio: 1.8989147071100598\n"
     ]
    }
   ],
   "source": [
    "import pandas as pd\n",
    "\n",
    "df = pd.read_csv(\"data/train_imdb_reviews.csv\")\n",
    "positive_count = df[df[\"sentiment\"] == 1].shape[0]\n",
    "negative_count = df[df[\"sentiment\"] == 0].shape[0]\n",
    "print(\"Total reviews:\", df.shape[0])\n",
    "print(\"Positive reviews:\", positive_count)\n",
    "print(\"Negative reviews:\", negative_count)\n",
    "print(\"ratio:\", positive_count/negative_count)"
   ]
  },
  {
   "cell_type": "code",
   "execution_count": 4,
   "metadata": {},
   "outputs": [
    {
     "name": "stdout",
     "output_type": "stream",
     "text": [
      "Total reviews: 4630\n",
      "Positive reviews: 3067\n",
      "Negative reviews: 1563\n",
      "ratio: 1.962252079334613\n"
     ]
    }
   ],
   "source": [
    "df = pd.read_csv(\"data/test_imdb_reviews.csv\")\n",
    "positive_count = df[df[\"sentiment\"] == 1].shape[0]\n",
    "negative_count = df[df[\"sentiment\"] == 0].shape[0]\n",
    "print(\"Total reviews:\", df.shape[0])\n",
    "print(\"Positive reviews:\", positive_count)\n",
    "print(\"Negative reviews:\", negative_count)\n",
    "print(\"ratio:\", positive_count/negative_count)"
   ]
  },
  {
   "cell_type": "code",
   "execution_count": 1,
   "metadata": {},
   "outputs": [
    {
     "name": "stdout",
     "output_type": "stream",
     "text": [
      "{1: 6254, 2: 2440, 3: 2366, 4: 2166, 5: 2711, 6: 3119, 7: 3451, 8: 4578, 9: 5616, 10: 13598}\n"
     ]
    }
   ],
   "source": [
    "import pandas as pd\n",
    "\n",
    "df = pd.read_csv(\"data/imdb_reviews.csv\")\n",
    "\n",
    "# calculate the number of reviews for each score\n",
    "h = {1: 0, 2: 0, 3: 0, 4: 0, 5: 0, 6: 0, 7: 0, 8: 0, 9: 0, 10: 0}\n",
    "\n",
    "for i in df[\"score\"]:\n",
    "    h[i] += 1\n",
    "\n",
    "print(h)"
   ]
  },
  {
   "cell_type": "code",
   "execution_count": 2,
   "metadata": {},
   "outputs": [
    {
     "data": {
      "image/png": "[encoded data removed]",
      "text/plain": [
       "<Figure size 640x480 with 1 Axes>"
      ]
     },
     "metadata": {},
     "output_type": "display_data"
    }
   ],
   "source": [
    "# visualize the distribution of the scores\n",
    "import matplotlib.pyplot as plt\n",
    "\n",
    "plot = df[\"score\"].plot.hist(bins=10, alpha=0.5, color=\"orange\", edgecolor=\"black\")\n",
    "plot.set_xlabel(\"Score\")\n",
    "plot.set_ylabel(\"Numbers\")\n",
    "plot.set_title(\"Score Distribution\")\n",
    "plt.show()"
   ]
  }
 ],
 "metadata": {
  "kernelspec": {
   "display_name": "Python 3 (ipykernel)",
   "language": "python",
   "name": "python3"
  },
  "language_info": {
   "codemirror_mode": {
    "name": "ipython",
    "version": 3
   },
   "file_extension": ".py",
   "mimetype": "text/x-python",
   "name": "python",
   "nbconvert_exporter": "python",
   "pygments_lexer": "ipython3",
   "version": "3.11.0"
  }
 },
 "nbformat": 4,
 "nbformat_minor": 2
}
