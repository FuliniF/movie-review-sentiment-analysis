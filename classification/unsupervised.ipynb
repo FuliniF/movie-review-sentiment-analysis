{
 "cells": [
  {
   "cell_type": "markdown",
   "metadata": {},
   "source": [
    "## Dataset"
   ]
  },
  {
   "cell_type": "code",
   "execution_count": 24,
   "metadata": {},
   "outputs": [],
   "source": [
    "import pandas as pd\n",
    "\n",
    "train_df = pd.read_csv('../data/train_imdb_reviews.csv')\n",
    "test_df = pd.read_csv('../data/test_imdb_reviews.csv')\n",
    "\n",
    "train_df['data_type'] = 'train'\n",
    "test_df['data_type'] = 'test'\n",
    "\n",
    "all_df = pd.concat([train_df, test_df], axis=0)"
   ]
  },
  {
   "cell_type": "code",
   "execution_count": 25,
   "metadata": {},
   "outputs": [
    {
     "name": "stdout",
     "output_type": "stream",
     "text": [
      "46299\n"
     ]
    },
    {
     "data": {
      "text/html": [
       "<div>\n",
       "<style scoped>\n",
       "    .dataframe tbody tr th:only-of-type {\n",
       "        vertical-align: middle;\n",
       "    }\n",
       "\n",
       "    .dataframe tbody tr th {\n",
       "        vertical-align: top;\n",
       "    }\n",
       "\n",
       "    .dataframe thead th {\n",
       "        text-align: right;\n",
       "    }\n",
       "</style>\n",
       "<table border=\"1\" class=\"dataframe\">\n",
       "  <thead>\n",
       "    <tr style=\"text-align: right;\">\n",
       "      <th></th>\n",
       "      <th>movie</th>\n",
       "      <th>score</th>\n",
       "      <th>title</th>\n",
       "      <th>review</th>\n",
       "      <th>sentiment</th>\n",
       "      <th>data_type</th>\n",
       "    </tr>\n",
       "  </thead>\n",
       "  <tbody>\n",
       "    <tr>\n",
       "      <th>0</th>\n",
       "      <td>沙丘</td>\n",
       "      <td>5.0</td>\n",
       "      <td>beautiful</td>\n",
       "      <td>scenes beautiful thats part liked movie movie ...</td>\n",
       "      <td>0</td>\n",
       "      <td>train</td>\n",
       "    </tr>\n",
       "    <tr>\n",
       "      <th>1</th>\n",
       "      <td>從前，有個好萊塢</td>\n",
       "      <td>10.0</td>\n",
       "      <td>tarantinos best</td>\n",
       "      <td>never wanted end said loved ending made weep l...</td>\n",
       "      <td>1</td>\n",
       "      <td>train</td>\n",
       "    </tr>\n",
       "    <tr>\n",
       "      <th>2</th>\n",
       "      <td>不可能的任務：致命清算 第一章</td>\n",
       "      <td>7.0</td>\n",
       "      <td>theres nothing else see</td>\n",
       "      <td>first ive got say im huge fan franchise saw mo...</td>\n",
       "      <td>1</td>\n",
       "      <td>train</td>\n",
       "    </tr>\n",
       "    <tr>\n",
       "      <th>3</th>\n",
       "      <td>拿破崙</td>\n",
       "      <td>1.0</td>\n",
       "      <td>sad slow epic</td>\n",
       "      <td>great anticipation went see napoleon twenty mi...</td>\n",
       "      <td>0</td>\n",
       "      <td>train</td>\n",
       "    </tr>\n",
       "    <tr>\n",
       "      <th>4</th>\n",
       "      <td>之前的我們</td>\n",
       "      <td>8.0</td>\n",
       "      <td>irony poor connection talked facetime</td>\n",
       "      <td>past lives first great doomed love story audie...</td>\n",
       "      <td>1</td>\n",
       "      <td>train</td>\n",
       "    </tr>\n",
       "  </tbody>\n",
       "</table>\n",
       "</div>"
      ],
      "text/plain": [
       "             movie  score                                  title  \\\n",
       "0               沙丘    5.0                              beautiful   \n",
       "1         從前，有個好萊塢   10.0                        tarantinos best   \n",
       "2  不可能的任務：致命清算 第一章    7.0                theres nothing else see   \n",
       "3              拿破崙    1.0                          sad slow epic   \n",
       "4            之前的我們    8.0  irony poor connection talked facetime   \n",
       "\n",
       "                                              review  sentiment data_type  \n",
       "0  scenes beautiful thats part liked movie movie ...          0     train  \n",
       "1  never wanted end said loved ending made weep l...          1     train  \n",
       "2  first ive got say im huge fan franchise saw mo...          1     train  \n",
       "3  great anticipation went see napoleon twenty mi...          0     train  \n",
       "4  past lives first great doomed love story audie...          1     train  "
      ]
     },
     "execution_count": 25,
     "metadata": {},
     "output_type": "execute_result"
    }
   ],
   "source": [
    "all_data = all_df.reset_index(drop=True)\n",
    "\n",
    "print(len(all_data))\n",
    "all_data.head()"
   ]
  },
  {
   "cell_type": "code",
   "execution_count": 26,
   "metadata": {},
   "outputs": [],
   "source": [
    "from gensim.models.doc2vec import TaggedDocument\n",
    "from gensim.utils import simple_preprocess\n",
    "from gensim.parsing.preprocessing import strip_tags\n",
    "from nltk import word_tokenize\n",
    "\n",
    "def tokenize(doc):\n",
    "    return simple_preprocess(strip_tags(doc), deacc=True, min_len=2, max_len=15)\n",
    "\n",
    "all_data['tagged_docs'] = all_data.apply(lambda r: TaggedDocument(tokenize(str(r['title'])+' '+r['review']), [str(r.name)]), axis=1)\n",
    "all_data['doc_key'] = all_data.index.astype(str)"
   ]
  },
  {
   "cell_type": "code",
   "execution_count": 27,
   "metadata": {},
   "outputs": [
    {
     "data": {
      "text/html": [
       "<div>\n",
       "<style scoped>\n",
       "    .dataframe tbody tr th:only-of-type {\n",
       "        vertical-align: middle;\n",
       "    }\n",
       "\n",
       "    .dataframe tbody tr th {\n",
       "        vertical-align: top;\n",
       "    }\n",
       "\n",
       "    .dataframe thead th {\n",
       "        text-align: right;\n",
       "    }\n",
       "</style>\n",
       "<table border=\"1\" class=\"dataframe\">\n",
       "  <thead>\n",
       "    <tr style=\"text-align: right;\">\n",
       "      <th></th>\n",
       "      <th>movie</th>\n",
       "      <th>score</th>\n",
       "      <th>title</th>\n",
       "      <th>review</th>\n",
       "      <th>sentiment</th>\n",
       "      <th>data_type</th>\n",
       "      <th>tagged_docs</th>\n",
       "      <th>doc_key</th>\n",
       "    </tr>\n",
       "  </thead>\n",
       "  <tbody>\n",
       "    <tr>\n",
       "      <th>0</th>\n",
       "      <td>沙丘</td>\n",
       "      <td>5.0</td>\n",
       "      <td>beautiful</td>\n",
       "      <td>scenes beautiful thats part liked movie movie ...</td>\n",
       "      <td>0</td>\n",
       "      <td>train</td>\n",
       "      <td>([beautiful, scenes, beautiful, thats, part, l...</td>\n",
       "      <td>0</td>\n",
       "    </tr>\n",
       "    <tr>\n",
       "      <th>1</th>\n",
       "      <td>從前，有個好萊塢</td>\n",
       "      <td>10.0</td>\n",
       "      <td>tarantinos best</td>\n",
       "      <td>never wanted end said loved ending made weep l...</td>\n",
       "      <td>1</td>\n",
       "      <td>train</td>\n",
       "      <td>([tarantinos, best, never, wanted, end, said, ...</td>\n",
       "      <td>1</td>\n",
       "    </tr>\n",
       "    <tr>\n",
       "      <th>2</th>\n",
       "      <td>不可能的任務：致命清算 第一章</td>\n",
       "      <td>7.0</td>\n",
       "      <td>theres nothing else see</td>\n",
       "      <td>first ive got say im huge fan franchise saw mo...</td>\n",
       "      <td>1</td>\n",
       "      <td>train</td>\n",
       "      <td>([theres, nothing, else, see, first, ive, got,...</td>\n",
       "      <td>2</td>\n",
       "    </tr>\n",
       "    <tr>\n",
       "      <th>3</th>\n",
       "      <td>拿破崙</td>\n",
       "      <td>1.0</td>\n",
       "      <td>sad slow epic</td>\n",
       "      <td>great anticipation went see napoleon twenty mi...</td>\n",
       "      <td>0</td>\n",
       "      <td>train</td>\n",
       "      <td>([sad, slow, epic, great, anticipation, went, ...</td>\n",
       "      <td>3</td>\n",
       "    </tr>\n",
       "    <tr>\n",
       "      <th>4</th>\n",
       "      <td>之前的我們</td>\n",
       "      <td>8.0</td>\n",
       "      <td>irony poor connection talked facetime</td>\n",
       "      <td>past lives first great doomed love story audie...</td>\n",
       "      <td>1</td>\n",
       "      <td>train</td>\n",
       "      <td>([irony, poor, connection, talked, facetime, p...</td>\n",
       "      <td>4</td>\n",
       "    </tr>\n",
       "  </tbody>\n",
       "</table>\n",
       "</div>"
      ],
      "text/plain": [
       "             movie  score                                  title  \\\n",
       "0               沙丘    5.0                              beautiful   \n",
       "1         從前，有個好萊塢   10.0                        tarantinos best   \n",
       "2  不可能的任務：致命清算 第一章    7.0                theres nothing else see   \n",
       "3              拿破崙    1.0                          sad slow epic   \n",
       "4            之前的我們    8.0  irony poor connection talked facetime   \n",
       "\n",
       "                                              review  sentiment data_type  \\\n",
       "0  scenes beautiful thats part liked movie movie ...          0     train   \n",
       "1  never wanted end said loved ending made weep l...          1     train   \n",
       "2  first ive got say im huge fan franchise saw mo...          1     train   \n",
       "3  great anticipation went see napoleon twenty mi...          0     train   \n",
       "4  past lives first great doomed love story audie...          1     train   \n",
       "\n",
       "                                         tagged_docs doc_key  \n",
       "0  ([beautiful, scenes, beautiful, thats, part, l...       0  \n",
       "1  ([tarantinos, best, never, wanted, end, said, ...       1  \n",
       "2  ([theres, nothing, else, see, first, ive, got,...       2  \n",
       "3  ([sad, slow, epic, great, anticipation, went, ...       3  \n",
       "4  ([irony, poor, connection, talked, facetime, p...       4  "
      ]
     },
     "execution_count": 27,
     "metadata": {},
     "output_type": "execute_result"
    }
   ],
   "source": [
    "all_data.head()"
   ]
  },
  {
   "cell_type": "markdown",
   "metadata": {},
   "source": [
    "In order to do this unsupervised classification task, I need to define some of the keywords by myself.\\\n",
    "The detailed method and reason to do this can be referred to its original paper: Evaluating Unsupervised Text Classification: Zero-shot and Similarity-based Approaches (https://arxiv.org/abs/2211.16285)"
   ]
  },
  {
   "cell_type": "code",
   "execution_count": 28,
   "metadata": {},
   "outputs": [
    {
     "name": "stdout",
     "output_type": "stream",
     "text": [
      "   class_id class_name                                           keywords  \\\n",
      "0         1   positive  [nice, masterpiece, beautiful, excellent, awes...   \n",
      "1         2   negative  [horrible, bad, disgusting, terrible, awful, b...   \n",
      "\n",
      "   num_keywords  \n",
      "0             8  \n",
      "1             8  \n"
     ]
    }
   ],
   "source": [
    "label_df = pd.read_csv('../data/labels.csv')\n",
    "label_df['keywords'] = label_df['keywords'].apply(lambda x: x.split(' '))\n",
    "label_df['num_keywords'] = label_df['keywords'].apply(lambda x: len(x))\n",
    "\n",
    "print(label_df.head())"
   ]
  },
  {
   "cell_type": "code",
   "execution_count": 29,
   "metadata": {},
   "outputs": [],
   "source": [
    "label_df['class_name'] = label_df['class_name'].astype('str')"
   ]
  },
  {
   "cell_type": "markdown",
   "metadata": {},
   "source": [
    "## Unsupervised Model"
   ]
  },
  {
   "cell_type": "code",
   "execution_count": 9,
   "metadata": {},
   "outputs": [
    {
     "data": {
      "text/plain": [
       "device(type='cuda')"
      ]
     },
     "execution_count": 9,
     "metadata": {},
     "output_type": "execute_result"
    }
   ],
   "source": [
    "import torch\n",
    "device = torch.device(\"cuda\" if torch.cuda.is_available() else \"cpu\")\n",
    "device"
   ]
  },
  {
   "cell_type": "code",
   "execution_count": 30,
   "metadata": {},
   "outputs": [],
   "source": [
    "from lbl2vec import Lbl2TransformerVec, Lbl2Vec\n",
    "from transformers import AutoModel\n",
    "from tqdm import tqdm\n",
    "from gensim.models import Doc2Vec\n",
    "\n",
    "lblModel = Lbl2Vec(keywords_list=list(label_df['keywords']), tagged_documents=all_data['tagged_docs'][all_data['data_type']=='train'], label_names=list(label_df['class_name']), epochs=10, min_count=20, verbose=True)\n",
    "\n",
    "# baseModel = AutoModel.from_pretrained('princeton-nlp/unsup-simcse-roberta-base').to(device)\n",
    "# lblModel = Lbl2TransformerVec(transformer_model=baseModel, keywords_list=list(label_df['keywords']), documents=all_data[all_data['data_type']=='train']['review'], device=device)"
   ]
  },
  {
   "cell_type": "code",
   "execution_count": 31,
   "metadata": {},
   "outputs": [
    {
     "name": "stderr",
     "output_type": "stream",
     "text": [
      "2024-03-14 20:37:06,639 - Lbl2Vec - INFO - Train document and word embeddings\n",
      "2024-03-14 20:37:06,639 - Lbl2Vec - INFO - Train document and word embeddings\n",
      "2024-03-14 20:38:04,401 - Lbl2Vec - INFO - Train label embeddings\n",
      "2024-03-14 20:38:04,401 - Lbl2Vec - INFO - Train label embeddings\n"
     ]
    }
   ],
   "source": [
    "lblModel.fit()"
   ]
  },
  {
   "cell_type": "code",
   "execution_count": 32,
   "metadata": {},
   "outputs": [],
   "source": [
    "lblModel.save('lbl2vec_titlereview_model')"
   ]
  },
  {
   "cell_type": "code",
   "execution_count": 33,
   "metadata": {},
   "outputs": [
    {
     "name": "stderr",
     "output_type": "stream",
     "text": [
      "2024-03-14 20:38:05,601 - Lbl2Vec - INFO - Get document embeddings from model\n",
      "2024-03-14 20:38:05,601 - Lbl2Vec - INFO - Get document embeddings from model\n",
      "2024-03-14 20:38:05,634 - Lbl2Vec - INFO - Calculate document<->label similarities\n",
      "2024-03-14 20:38:05,634 - Lbl2Vec - INFO - Calculate document<->label similarities\n"
     ]
    }
   ],
   "source": [
    "model_docs_lbl_similarities = lblModel.predict_model_docs()"
   ]
  },
  {
   "cell_type": "code",
   "execution_count": 34,
   "metadata": {},
   "outputs": [
    {
     "data": {
      "text/html": [
       "<div>\n",
       "<style scoped>\n",
       "    .dataframe tbody tr th:only-of-type {\n",
       "        vertical-align: middle;\n",
       "    }\n",
       "\n",
       "    .dataframe tbody tr th {\n",
       "        vertical-align: top;\n",
       "    }\n",
       "\n",
       "    .dataframe thead th {\n",
       "        text-align: right;\n",
       "    }\n",
       "</style>\n",
       "<table border=\"1\" class=\"dataframe\">\n",
       "  <thead>\n",
       "    <tr style=\"text-align: right;\">\n",
       "      <th></th>\n",
       "      <th>doc_key</th>\n",
       "      <th>most_similar_label</th>\n",
       "      <th>highest_similarity_score</th>\n",
       "      <th>positive</th>\n",
       "      <th>negative</th>\n",
       "    </tr>\n",
       "  </thead>\n",
       "  <tbody>\n",
       "    <tr>\n",
       "      <th>0</th>\n",
       "      <td>0</td>\n",
       "      <td>negative</td>\n",
       "      <td>0.510638</td>\n",
       "      <td>0.241380</td>\n",
       "      <td>0.510638</td>\n",
       "    </tr>\n",
       "    <tr>\n",
       "      <th>1</th>\n",
       "      <td>1</td>\n",
       "      <td>negative</td>\n",
       "      <td>0.529083</td>\n",
       "      <td>0.320638</td>\n",
       "      <td>0.529083</td>\n",
       "    </tr>\n",
       "    <tr>\n",
       "      <th>2</th>\n",
       "      <td>2</td>\n",
       "      <td>negative</td>\n",
       "      <td>0.262540</td>\n",
       "      <td>0.164078</td>\n",
       "      <td>0.262540</td>\n",
       "    </tr>\n",
       "    <tr>\n",
       "      <th>3</th>\n",
       "      <td>3</td>\n",
       "      <td>negative</td>\n",
       "      <td>0.285527</td>\n",
       "      <td>0.117318</td>\n",
       "      <td>0.285527</td>\n",
       "    </tr>\n",
       "    <tr>\n",
       "      <th>4</th>\n",
       "      <td>4</td>\n",
       "      <td>negative</td>\n",
       "      <td>0.172333</td>\n",
       "      <td>0.124646</td>\n",
       "      <td>0.172333</td>\n",
       "    </tr>\n",
       "  </tbody>\n",
       "</table>\n",
       "</div>"
      ],
      "text/plain": [
       "  doc_key most_similar_label  highest_similarity_score  positive  negative\n",
       "0       0           negative                  0.510638  0.241380  0.510638\n",
       "1       1           negative                  0.529083  0.320638  0.529083\n",
       "2       2           negative                  0.262540  0.164078  0.262540\n",
       "3       3           negative                  0.285527  0.117318  0.285527\n",
       "4       4           negative                  0.172333  0.124646  0.172333"
      ]
     },
     "execution_count": 34,
     "metadata": {},
     "output_type": "execute_result"
    }
   ],
   "source": [
    "model_docs_lbl_similarities.head()"
   ]
  },
  {
   "cell_type": "code",
   "execution_count": 35,
   "metadata": {},
   "outputs": [
    {
     "name": "stdout",
     "output_type": "stream",
     "text": [
      "0    negative\n",
      "1    negative\n",
      "2    negative\n",
      "3    negative\n",
      "4    negative\n",
      "Name: most_similar_label, dtype: object\n"
     ]
    }
   ],
   "source": [
    "y_train = all_data['sentiment']\n",
    "y_pred = model_docs_lbl_similarities['most_similar_label']\n",
    "\n",
    "print(y_pred[:5])"
   ]
  },
  {
   "cell_type": "code",
   "execution_count": 36,
   "metadata": {},
   "outputs": [
    {
     "name": "stdout",
     "output_type": "stream",
     "text": [
      "0    0\n",
      "1    0\n",
      "2    0\n",
      "3    0\n",
      "4    0\n",
      "Name: most_similar_label, dtype: object\n"
     ]
    }
   ],
   "source": [
    "for i in range(len(y_pred)):\n",
    "    if y_pred[i] == 'positive':\n",
    "        y_pred[i] = 1\n",
    "    else:\n",
    "        y_pred[i] = 0\n",
    "\n",
    "print(y_pred[:5])"
   ]
  },
  {
   "cell_type": "code",
   "execution_count": 37,
   "metadata": {},
   "outputs": [
    {
     "name": "stdout",
     "output_type": "stream",
     "text": [
      "41669 46299\n",
      "15012 13595 779 12283\n",
      "41669\n"
     ]
    }
   ],
   "source": [
    "tp = 0\n",
    "tn = 0\n",
    "fp = 0\n",
    "fn = 0\n",
    "\n",
    "print(len(y_pred), len(y_train))\n",
    "\n",
    "for i in range(len(y_pred)):\n",
    "    if y_pred[i] == 1 and y_train.iloc[i] == 1:\n",
    "        tp += 1\n",
    "    elif y_pred[i] == 0 and y_train.iloc[i] == 0:\n",
    "        tn += 1\n",
    "    elif y_pred[i] == 1 and y_train.iloc[i] == 0:\n",
    "        fp += 1\n",
    "    elif y_pred[i] == 0 and y_train.iloc[i] == 1:\n",
    "        fn += 1\n",
    "\n",
    "print(tp, tn, fp, fn)\n",
    "print(tp + tn + fp + fn)"
   ]
  },
  {
   "cell_type": "code",
   "execution_count": 38,
   "metadata": {},
   "outputs": [
    {
     "name": "stdout",
     "output_type": "stream",
     "text": [
      "true positives:  15012\n",
      "true negatives:  13595\n",
      "false positives:  779\n",
      "false negatives:  12283\n",
      "Accuracy:  0.6865295543449567\n",
      "Precision:  0.9506681020834653\n",
      "Recall:  0.5499908408133358\n",
      "F1:  0.6968388803787774\n",
      "AUC:  0.7478978831866874\n"
     ]
    }
   ],
   "source": [
    "def auc(tp, fp, tn, fn):\n",
    "    return (tp / (tp + fn) + tn / (tn + fp)) / 2\n",
    "\n",
    "print(\"true positives: \", tp)\n",
    "print(\"true negatives: \", tn)\n",
    "print(\"false positives: \", fp)\n",
    "print(\"false negatives: \", fn)\n",
    "\n",
    "acc = (tp + tn) / (tp + tn + fp + fn)\n",
    "precision = tp / (tp + fp)\n",
    "recall = tp / (tp + fn)\n",
    "f1 = 2 * (precision * recall) / (precision + recall)\n",
    "\n",
    "print(\"Accuracy: \", acc)\n",
    "print(\"Precision: \", precision)\n",
    "print(\"Recall: \", recall)\n",
    "print(\"F1: \", f1)\n",
    "print(\"AUC: \", auc(tp, fp, tn, fn))"
   ]
  },
  {
   "cell_type": "markdown",
   "metadata": {},
   "source": [
    "## Evaluate on test dataset"
   ]
  },
  {
   "cell_type": "code",
   "execution_count": 1,
   "metadata": {},
   "outputs": [
    {
     "data": {
      "text/plain": [
       "device(type='cuda')"
      ]
     },
     "execution_count": 1,
     "metadata": {},
     "output_type": "execute_result"
    }
   ],
   "source": [
    "import torch\n",
    "device = torch.device(\"cuda\" if torch.cuda.is_available() else \"cpu\")\n",
    "device"
   ]
  },
  {
   "cell_type": "code",
   "execution_count": 4,
   "metadata": {},
   "outputs": [],
   "source": [
    "from lbl2vec import Lbl2TransformerVec\n",
    "from tqdm import tqdm\n",
    "\n",
    "model = Lbl2TransformerVec.load('lbl2vec_model')"
   ]
  },
  {
   "cell_type": "code",
   "execution_count": 39,
   "metadata": {},
   "outputs": [],
   "source": [
    "import pandas as pd\n",
    "\n",
    "test_df = pd.read_csv('../data/test_imdb_reviews.csv')\n",
    "\n",
    "X_test = test_df['title'].astype(str) + ' ' + test_df['review'].astype(str)\n",
    "y_test = test_df['sentiment']"
   ]
  },
  {
   "cell_type": "code",
   "execution_count": 40,
   "metadata": {},
   "outputs": [
    {
     "name": "stderr",
     "output_type": "stream",
     "text": [
      "2024-03-14 20:38:24,425 - Lbl2Vec - INFO - Calculate document embeddings\n",
      "2024-03-14 20:38:24,425 - Lbl2Vec - INFO - Calculate document embeddings\n",
      "2024-03-14 20:38:27,393 - Lbl2Vec - INFO - Calculate document<->label similarities\n",
      "2024-03-14 20:38:27,393 - Lbl2Vec - INFO - Calculate document<->label similarities\n"
     ]
    }
   ],
   "source": [
    "new_docs_lbl_similarities = lblModel.predict_new_docs(tagged_docs=all_data['tagged_docs'][all_data['data_type']=='test'])"
   ]
  },
  {
   "cell_type": "code",
   "execution_count": 41,
   "metadata": {},
   "outputs": [
    {
     "data": {
      "text/html": [
       "<div>\n",
       "<style scoped>\n",
       "    .dataframe tbody tr th:only-of-type {\n",
       "        vertical-align: middle;\n",
       "    }\n",
       "\n",
       "    .dataframe tbody tr th {\n",
       "        vertical-align: top;\n",
       "    }\n",
       "\n",
       "    .dataframe thead th {\n",
       "        text-align: right;\n",
       "    }\n",
       "</style>\n",
       "<table border=\"1\" class=\"dataframe\">\n",
       "  <thead>\n",
       "    <tr style=\"text-align: right;\">\n",
       "      <th></th>\n",
       "      <th>doc_key</th>\n",
       "      <th>most_similar_label</th>\n",
       "      <th>highest_similarity_score</th>\n",
       "      <th>positive</th>\n",
       "      <th>negative</th>\n",
       "    </tr>\n",
       "  </thead>\n",
       "  <tbody>\n",
       "    <tr>\n",
       "      <th>0</th>\n",
       "      <td>41669</td>\n",
       "      <td>positive</td>\n",
       "      <td>0.357730</td>\n",
       "      <td>0.357730</td>\n",
       "      <td>0.155046</td>\n",
       "    </tr>\n",
       "    <tr>\n",
       "      <th>1</th>\n",
       "      <td>41670</td>\n",
       "      <td>positive</td>\n",
       "      <td>0.491405</td>\n",
       "      <td>0.491405</td>\n",
       "      <td>0.353151</td>\n",
       "    </tr>\n",
       "    <tr>\n",
       "      <th>2</th>\n",
       "      <td>41671</td>\n",
       "      <td>negative</td>\n",
       "      <td>0.207600</td>\n",
       "      <td>0.185149</td>\n",
       "      <td>0.207600</td>\n",
       "    </tr>\n",
       "    <tr>\n",
       "      <th>3</th>\n",
       "      <td>41672</td>\n",
       "      <td>positive</td>\n",
       "      <td>0.412254</td>\n",
       "      <td>0.412254</td>\n",
       "      <td>0.308475</td>\n",
       "    </tr>\n",
       "    <tr>\n",
       "      <th>4</th>\n",
       "      <td>41673</td>\n",
       "      <td>positive</td>\n",
       "      <td>0.363429</td>\n",
       "      <td>0.363429</td>\n",
       "      <td>0.350282</td>\n",
       "    </tr>\n",
       "  </tbody>\n",
       "</table>\n",
       "</div>"
      ],
      "text/plain": [
       "  doc_key most_similar_label  highest_similarity_score  positive  negative\n",
       "0   41669           positive                  0.357730  0.357730  0.155046\n",
       "1   41670           positive                  0.491405  0.491405  0.353151\n",
       "2   41671           negative                  0.207600  0.185149  0.207600\n",
       "3   41672           positive                  0.412254  0.412254  0.308475\n",
       "4   41673           positive                  0.363429  0.363429  0.350282"
      ]
     },
     "execution_count": 41,
     "metadata": {},
     "output_type": "execute_result"
    }
   ],
   "source": [
    "new_docs_lbl_similarities.head()"
   ]
  },
  {
   "cell_type": "code",
   "execution_count": 42,
   "metadata": {},
   "outputs": [
    {
     "name": "stdout",
     "output_type": "stream",
     "text": [
      "0    1\n",
      "1    1\n",
      "2    0\n",
      "3    1\n",
      "4    1\n",
      "Name: most_similar_label, dtype: object\n"
     ]
    }
   ],
   "source": [
    "y_test_pred = new_docs_lbl_similarities['most_similar_label']\n",
    "\n",
    "for i in range(len(y_test_pred)):\n",
    "    if y_test_pred[i] == 'positive':\n",
    "        y_test_pred[i] = 1\n",
    "    else:\n",
    "        y_test_pred[i] = 0\n",
    "\n",
    "print(y_test_pred[:5])"
   ]
  },
  {
   "cell_type": "code",
   "execution_count": 43,
   "metadata": {},
   "outputs": [
    {
     "name": "stdout",
     "output_type": "stream",
     "text": [
      "true positives:  1828\n",
      "true negatives:  1446\n",
      "false positives:  117\n",
      "false negatives:  1239\n",
      "Accuracy:  0.7071274298056156\n",
      "Precision:  0.9398457583547558\n",
      "Recall:  0.5960221715030974\n",
      "F1:  0.7294493216280925\n",
      "AUC:  0.7605830627189192\n"
     ]
    }
   ],
   "source": [
    "test_tp = 0\n",
    "test_tn = 0\n",
    "test_fp = 0\n",
    "test_fn = 0\n",
    "\n",
    "for i in range(len(y_test_pred)):\n",
    "    if y_test_pred[i] == 1 and y_test.iloc[i] == 1:\n",
    "        test_tp += 1\n",
    "    elif y_test_pred[i] == 0 and y_test.iloc[i] == 0:\n",
    "        test_tn += 1\n",
    "    elif y_test_pred[i] == 1 and y_test.iloc[i] == 0:\n",
    "        test_fp += 1\n",
    "    elif y_test_pred[i] == 0 and y_test.iloc[i] == 1:\n",
    "        test_fn += 1\n",
    "\n",
    "print(\"true positives: \", test_tp)\n",
    "print(\"true negatives: \", test_tn)\n",
    "print(\"false positives: \", test_fp)\n",
    "print(\"false negatives: \", test_fn)\n",
    "\n",
    "test_acc = (test_tp + test_tn) / (test_tp + test_tn + test_fp + test_fn)\n",
    "test_precision = test_tp / (test_tp + test_fp)\n",
    "test_recall = test_tp / (test_tp + test_fn)\n",
    "test_f1 = 2 * (test_precision * test_recall) / (test_precision + test_recall)\n",
    "test_auc = auc(test_tp, test_fp, test_tn, test_fn)\n",
    "\n",
    "print(\"Accuracy: \", test_acc)\n",
    "print(\"Precision: \", test_precision)\n",
    "print(\"Recall: \", test_recall)\n",
    "print(\"F1: \", test_f1)\n",
    "print(\"AUC: \", test_auc)"
   ]
  }
 ],
 "metadata": {
  "kernelspec": {
   "display_name": "AIcap",
   "language": "python",
   "name": "python3"
  },
  "language_info": {
   "codemirror_mode": {
    "name": "ipython",
    "version": 3
   },
   "file_extension": ".py",
   "mimetype": "text/x-python",
   "name": "python",
   "nbconvert_exporter": "python",
   "pygments_lexer": "ipython3",
   "version": "3.11.0"
  }
 },
 "nbformat": 4,
 "nbformat_minor": 2
}
